{
  "nbformat": 4,
  "nbformat_minor": 0,
  "metadata": {
    "colab": {
      "name": "HOG.ipynb",
      "provenance": [],
      "collapsed_sections": [
        "tLI3DOD5nxmD",
        "aqVOckXEn6K_"
      ]
    },
    "kernelspec": {
      "name": "python3",
      "display_name": "Python 3"
    },
    "language_info": {
      "name": "python"
    }
  },
  "cells": [
    {
      "cell_type": "markdown",
      "metadata": {
        "id": "tO9hCYyxoyfY"
      },
      "source": [
        "#Importing libraries and required image"
      ]
    },
    {
      "cell_type": "code",
      "metadata": {
        "id": "tnFccPJZXeRS"
      },
      "source": [
        "import matplotlib.pyplot as plt\n",
        "from skimage import io\n",
        "from skimage import color\n",
        "from skimage.transform import resize\n",
        "import math\n",
        "from skimage.feature import hog\n",
        "import numpy as np"
      ],
      "execution_count": 1,
      "outputs": []
    },
    {
      "cell_type": "code",
      "metadata": {
        "id": "zOD-r9IJYX65"
      },
      "source": [
        "img = resize(color.rgb2gray(io.imread(\"B.jpg\")), (128, 64))"
      ],
      "execution_count": 2,
      "outputs": []
    },
    {
      "cell_type": "markdown",
      "metadata": {
        "id": "nO1uGAdbo9U6"
      },
      "source": [
        "#Visualization of image to be used"
      ]
    },
    {
      "cell_type": "code",
      "metadata": {
        "colab": {
          "base_uri": "https://localhost:8080/",
          "height": 466
        },
        "id": "L2C8l_AKYNr0",
        "outputId": "c201fc39-b885-4262-8692-c2d83f700139"
      },
      "source": [
        "plt.figure(figsize=(15, 8))\n",
        "plt.imshow(img, cmap=\"gray\")\n",
        "plt.axis(\"off\")\n",
        "plt.show()"
      ],
      "execution_count": 3,
      "outputs": [
        {
          "output_type": "display_data",
          "data": {
            "image/png": "[encoded data removed]",
            "text/plain": [
              "<Figure size 1080x576 with 1 Axes>"
            ]
          },
          "metadata": {
            "tags": [],
            "needs_background": "light"
          }
        }
      ]
    },
    {
      "cell_type": "code",
      "metadata": {
        "id": "SpHwDEFQYPYE"
      },
      "source": [
        "img = np.array(img)"
      ],
      "execution_count": 4,
      "outputs": []
    },
    {
      "cell_type": "markdown",
      "metadata": {
        "id": "OsOUC-alpBQ5"
      },
      "source": [
        "#Calculating gradient and angle of the image"
      ]
    },
    {
      "cell_type": "code",
      "metadata": {
        "id": "HDYUR40BZbbZ"
      },
      "source": [
        "mag = []\n",
        "theta = []\n",
        "for i in range(128):\n",
        "  magnitudeArray = []\n",
        "  angleArray = []\n",
        "  for j in range(64):\n",
        "    # Condition for axis 0\n",
        "    if j-1 <= 0 or j+1 >= 64:\n",
        "      if j-1 <= 0:\n",
        "        # Condition if first element\n",
        "        Gx = img[i][j+1] - 0\n",
        "      elif j + 1 >= len(img[0]):\n",
        "        Gx = 0 - img[i][j-1]\n",
        "    # Condition for first element\n",
        "    else:\n",
        "      Gx = img[i][j+1] - img[i][j-1]\n",
        "    \n",
        "    # Condition for axis 1\n",
        "    if i-1 <= 0 or i+1 >= 128:\n",
        "      if i-1 <= 0:\n",
        "        Gy = 0 - img[i+1][j]\n",
        "      elif i +1 >= 128:\n",
        "        Gy = img[i-1][j] - 0\n",
        "    else:\n",
        "      Gy = img[i-1][j] - img[i+1][j]\n",
        "\n",
        "    # Calculating magnitude\n",
        "    magnitude = math.sqrt(pow(Gx, 2) + pow(Gy, 2))\n",
        "    magnitudeArray.append(round(magnitude, 9))\n",
        "\n",
        "    # Calculating angle\n",
        "    if Gx == 0:\n",
        "      angle = math.degrees(0.0)\n",
        "    else:\n",
        "      angle = math.degrees(abs(math.atan(Gy / Gx)))\n",
        "    angleArray.append(round(angle, 9))\n",
        "  mag.append(magnitudeArray)\n",
        "  theta.append(angleArray)"
      ],
      "execution_count": 5,
      "outputs": []
    },
    {
      "cell_type": "code",
      "metadata": {
        "id": "ZtQ0C7TqcSem"
      },
      "source": [
        "mag = np.array(mag)"
      ],
      "execution_count": 6,
      "outputs": []
    },
    {
      "cell_type": "code",
      "metadata": {
        "id": "7UPqa4dze7vZ"
      },
      "source": [
        "theta = np.array(theta)"
      ],
      "execution_count": 7,
      "outputs": []
    },
    {
      "cell_type": "markdown",
      "metadata": {
        "id": "79dGJCaSpIr3"
      },
      "source": [
        "#Visualization of magnitude of the image"
      ]
    },
    {
      "cell_type": "code",
      "metadata": {
        "colab": {
          "base_uri": "https://localhost:8080/",
          "height": 466
        },
        "id": "V47q7HG0g3oL",
        "outputId": "0c5eca3d-9dcc-4873-ba59-5349e99317cd"
      },
      "source": [
        "plt.figure(figsize=(15, 8))\n",
        "plt.imshow(mag, cmap=\"gray\")\n",
        "plt.axis(\"off\")\n",
        "plt.show()"
      ],
      "execution_count": 8,
      "outputs": [
        {
          "output_type": "display_data",
          "data": {
            "image/png": "[encoded data removed]",
            "text/plain": [
              "<Figure size 1080x576 with 1 Axes>"
            ]
          },
          "metadata": {
            "tags": [],
            "needs_background": "light"
          }
        }
      ]
    },
    {
      "cell_type": "markdown",
      "metadata": {
        "id": "hFGniXoIpNXG"
      },
      "source": [
        "#Visualization of angle of the image"
      ]
    },
    {
      "cell_type": "code",
      "metadata": {
        "colab": {
          "base_uri": "https://localhost:8080/",
          "height": 466
        },
        "id": "hfGe3gizg6kc",
        "outputId": "77c3aa6b-59e7-4ca8-bbc9-32136717e61e"
      },
      "source": [
        "plt.figure(figsize=(15, 8))\n",
        "plt.imshow(theta, cmap=\"gray\")\n",
        "plt.axis(\"off\")\n",
        "plt.show()"
      ],
      "execution_count": 9,
      "outputs": [
        {
          "output_type": "display_data",
          "data": {
            "image/png": "[encoded data removed]",
            "text/plain": [
              "<Figure size 1080x576 with 1 Axes>"
            ]
          },
          "metadata": {
            "tags": [],
            "needs_background": "light"
          }
        }
      ]
    },
    {
      "cell_type": "code",
      "metadata": {
        "id": "H5WVDpwVg9j_"
      },
      "source": [
        "number_of_bins = 9\n",
        "step_size = 180 / number_of_bins"
      ],
      "execution_count": 10,
      "outputs": []
    },
    {
      "cell_type": "markdown",
      "metadata": {
        "id": "1oeeKuuSnPKa"
      },
      "source": [
        "##Function to calculate the $j^{th}$ bin"
      ]
    },
    {
      "cell_type": "code",
      "metadata": {
        "id": "oedYx3ppiYa2"
      },
      "source": [
        "def calculate_j(angle):\n",
        "  temp = (angle / step_size) - 0.5\n",
        "  j = math.floor(temp)\n",
        "  return j"
      ],
      "execution_count": 11,
      "outputs": []
    },
    {
      "cell_type": "markdown",
      "metadata": {
        "id": "tLI3DOD5nxmD"
      },
      "source": [
        "##Function to calculate the value of centre of $j^{th}$ bin"
      ]
    },
    {
      "cell_type": "code",
      "metadata": {
        "id": "dJv5NyHIjEf0"
      },
      "source": [
        "def calculate_Cj(j):\n",
        "  Cj = step_size * (j + 0.5)\n",
        "  return round(Cj, 9)"
      ],
      "execution_count": 12,
      "outputs": []
    },
    {
      "cell_type": "markdown",
      "metadata": {
        "id": "aqVOckXEn6K_"
      },
      "source": [
        "##Function to calculate the value of $j^{th}$ bin"
      ]
    },
    {
      "cell_type": "code",
      "metadata": {
        "id": "b5fhYlxTi6n7"
      },
      "source": [
        "def calculate_value_j(magnitude, angle, j):\n",
        "  Cj = calculate_Cj(j+1)\n",
        "  Vj = magnitude * ((Cj - angle) / step_size)\n",
        "  return round(Vj, 9)"
      ],
      "execution_count": 13,
      "outputs": []
    },
    {
      "cell_type": "markdown",
      "metadata": {
        "id": "5N7Q_IC7n8ZM"
      },
      "source": [
        "#Provides a 9 point histogram for 8x8 cells"
      ]
    },
    {
      "cell_type": "code",
      "metadata": {
        "id": "pXe1gdxllSdm"
      },
      "source": [
        "histogram_points_nine = []\n",
        "for i in range(0, 128, 8):\n",
        "  temp = []\n",
        "  for j in range(0, 64, 8):\n",
        "    magnitude_values = [[mag[i][x] for x in range(j, j+8)] for i in range(i,i+8)]\n",
        "    angle_values = [[theta[i][x] for x in range(j, j+8)] for i in range(i, i+8)]\n",
        "    for k in range(len(magnitude_values)):\n",
        "      for l in range(len(magnitude_values[0])):\n",
        "        bins = [0.0 for _ in range(number_of_bins)]\n",
        "        value_j = calculate_j(angle_values[k][l])\n",
        "        Vj = calculate_value_j(magnitude_values[k][l], angle_values[k][l], value_j)\n",
        "        Vj_1 = magnitude_values[k][l] - Vj\n",
        "        bins[value_j]+=Vj\n",
        "        bins[value_j+1]+=Vj_1\n",
        "        bins = [round(x, 9) for x in bins]\n",
        "    temp.append(bins)\n",
        "  histogram_points_nine.append(temp)"
      ],
      "execution_count": 14,
      "outputs": []
    },
    {
      "cell_type": "code",
      "metadata": {
        "colab": {
          "base_uri": "https://localhost:8080/"
        },
        "id": "PIW3xilsdNdM",
        "outputId": "f5837dfa-22d6-4ee6-8fcd-f9bacd588fb8"
      },
      "source": [
        "print(len(histogram_points_nine))\n",
        "print(len(histogram_points_nine[0]))\n",
        "print(len(histogram_points_nine[0][0]))"
      ],
      "execution_count": 15,
      "outputs": [
        {
          "output_type": "stream",
          "text": [
            "16\n",
            "8\n",
            "9\n"
          ],
          "name": "stdout"
        }
      ]
    },
    {
      "cell_type": "markdown",
      "metadata": {
        "id": "6pEpXSCwoJ5L"
      },
      "source": [
        "#Provides a HOG feature vector for the 9 point histogram provided by making block from 2x2 blocks\n",
        "##(1 block is made up of 8x8 cells)"
      ]
    },
    {
      "cell_type": "code",
      "metadata": {
        "id": "FIQqE4_ouNs7"
      },
      "source": [
        "epsilon = 1e-05"
      ],
      "execution_count": 16,
      "outputs": []
    },
    {
      "cell_type": "code",
      "metadata": {
        "id": "Rc6ye4FndnJd"
      },
      "source": [
        "feature_vectors = []\n",
        "for i in range(0, len(histogram_points_nine) - 1, 1):\n",
        "  temp = []\n",
        "  for j in range(0, len(histogram_points_nine[0]) - 1, 1):\n",
        "    values = [[histogram_points_nine[i][x] for x in range(j, j+2)] for i in range(i, i+2)]\n",
        "    final_vector = []\n",
        "    for k in values:\n",
        "      for l in k:\n",
        "        for m in l:\n",
        "          final_vector.append(m)\n",
        "    k = round(math.sqrt(sum([pow(x, 2) for x in final_vector])), 9)\n",
        "    final_vector = [round(x/(k + epsilon), 9) for x in final_vector]\n",
        "    temp.append(final_vector)\n",
        "  feature_vectors.append(temp)"
      ],
      "execution_count": 17,
      "outputs": []
    },
    {
      "cell_type": "code",
      "metadata": {
        "colab": {
          "base_uri": "https://localhost:8080/"
        },
        "id": "MMRGiZRMf6AF",
        "outputId": "c147702d-c724-49d3-e338-5206f648cc76"
      },
      "source": [
        "print(len(feature_vectors))\n",
        "print(len(feature_vectors[0]))\n",
        "print(len(feature_vectors[0][0]))"
      ],
      "execution_count": 18,
      "outputs": [
        {
          "output_type": "stream",
          "text": [
            "15\n",
            "7\n",
            "36\n"
          ],
          "name": "stdout"
        }
      ]
    },
    {
      "cell_type": "markdown",
      "metadata": {
        "id": "TZLRUhHsohAJ"
      },
      "source": [
        "#Number of HOG features obtained"
      ]
    },
    {
      "cell_type": "code",
      "metadata": {
        "colab": {
          "base_uri": "https://localhost:8080/"
        },
        "id": "ZHAXy67pgeoK",
        "outputId": "729f0699-2f43-4d2b-d128-6f3ae4eb9efd"
      },
      "source": [
        "print(f'Number of HOG features = {len(feature_vectors) * len(feature_vectors[0]) * len(feature_vectors[0][0])}')"
      ],
      "execution_count": 19,
      "outputs": [
        {
          "output_type": "stream",
          "text": [
            "Number of HOG features = 3780\n"
          ],
          "name": "stdout"
        }
      ]
    }
  ]
}