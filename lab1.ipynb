{
 "cells": [
  {
   "cell_type": "code",
   "execution_count": 1,
   "metadata": {},
   "outputs": [],
   "source": [
    "import numpy as np\n",
    "import matplotlib.pyplot as plt\n",
    "%matplotlib inline"
   ]
  },
  {
   "cell_type": "code",
   "execution_count": 118,
   "metadata": {},
   "outputs": [],
   "source": [
    "#重点在于选择参数\n",
    "def uniform_dis(x_1=4):\n",
    "    a=16807\n",
    "    b=0\n",
    "    x_1=4\n",
    "    m=2147483647\n",
    "    res_lst=[]\n",
    "    x_n=x_1\n",
    "    for i in range(12*5000):\n",
    "        x_n_next=(a*x_n+b)%m\n",
    "        res=x_n_next/m\n",
    "        x_n=x_n_next\n",
    "        res_lst.append(res)\n",
    "    return res_lst\n"
   ]
  },
  {
   "cell_type": "code",
   "execution_count": 37,
   "metadata": {},
   "outputs": [],
   "source": [
    "def cal_mean_var_error(act_mean,act_var,des_mean,des_var):\n",
    "    print(f\"mean : {act_mean}   var : {act_var}\")\n",
    "    try:\n",
    "        print(f\"error_rate {abs(act_mean-des_mean)/des_mean*100} , {abs(act_var-des_var)/des_var*100}\")\n",
    "    except:\n",
    "        print(f\"error_rate {abs(act_mean-des_mean)*100} , {abs(act_var-des_var)/des_var*100}\")\n"
   ]
  },
  {
   "cell_type": "code",
   "execution_count": 101,
   "metadata": {},
   "outputs": [],
   "source": [
    "uniform_array=uniform_dis()"
   ]
  },
  {
   "cell_type": "code",
   "execution_count": 102,
   "metadata": {},
   "outputs": [
    {
     "data": {
      "text/plain": [
       "(0.05047773913657849, 0.022756542813157088)"
      ]
     },
     "execution_count": 102,
     "metadata": {},
     "output_type": "execute_result"
    }
   ],
   "source": [
    "uniform_array=np.array(uniform_array)\n",
    "(uniform_array.mean()-0.5)/0.5*100,(uniform_array.var()-1/12)/(1/12)*100"
   ]
  },
  {
   "cell_type": "code",
   "execution_count": 103,
   "metadata": {},
   "outputs": [
    {
     "data": {
      "image/png": "[encoded data removed]",
      "text/plain": [
       "<Figure size 432x288 with 1 Axes>"
      ]
     },
     "metadata": {
      "needs_background": "light"
     },
     "output_type": "display_data"
    }
   ],
   "source": [
    "nums=plt.hist(uniform_array,bins=50)\n",
    "plt.savefig(\"uniform.png\")"
   ]
  },
  {
   "cell_type": "code",
   "execution_count": 116,
   "metadata": {},
   "outputs": [
    {
     "data": {
      "text/plain": [
       "0.4007"
      ]
     },
     "execution_count": 116,
     "metadata": {},
     "output_type": "execute_result"
    }
   ],
   "source": [
    "filt1=uniform_array<=0.4\n",
    "uniform_array[filt1].shape[0]/60000\n"
   ]
  },
  {
   "cell_type": "markdown",
   "metadata": {},
   "source": [
    "## 中心极限定理产生高斯分布"
   ]
  },
  {
   "cell_type": "code",
   "execution_count": 32,
   "metadata": {},
   "outputs": [
    {
     "data": {
      "image/png": "[encoded data removed]",
      "text/plain": [
       "<Figure size 432x288 with 1 Axes>"
      ]
     },
     "metadata": {
      "needs_background": "light"
     },
     "output_type": "display_data"
    }
   ],
   "source": [
    "uniform_array=np.array(uniform_array)\n",
    "array_12=uniform_array.reshape(12,-1)\n",
    "# 生成12个均匀分布\n",
    "array_12.shape\n",
    "array_12.mean(axis=1)\n",
    "# 限制到范围-0.5 ~ 0.5\n",
    "array_12-=0.5\n",
    "array_12.mean(axis=1)\n",
    "#12 个均匀分布相加\n",
    "sun_of_12=np.sum(array_12,axis=0)\n",
    "sun_of_12.shape\n",
    "sun_of_12.mean()\n",
    "# 更改方差\n",
    "plt.hist(sun_of_12,bins=100)\n",
    "plt.show()"
   ]
  },
  {
   "cell_type": "code",
   "execution_count": 38,
   "metadata": {},
   "outputs": [
    {
     "name": "stdout",
     "output_type": "stream",
     "text": [
      "mean : 0.003028664348194688   var : 0.9828248826435654\n",
      "error_rate inf , 1.7175117356434622\n"
     ]
    },
    {
     "name": "stderr",
     "output_type": "stream",
     "text": [
      "<ipython-input-37-ce54d5949217>:4: RuntimeWarning: divide by zero encountered in double_scalars\n",
      "  print(f\"error_rate {abs(act_mean-des_mean)/des_mean*100} , {abs(act_var-des_var)/des_var*100}\")\n"
     ]
    }
   ],
   "source": [
    "cal_mean_var_error(sun_of_12.mean(),sun_of_12.var(),0,1)"
   ]
  },
  {
   "cell_type": "markdown",
   "metadata": {},
   "source": [
    "## box-muller 生成高斯分布"
   ]
  },
  {
   "cell_type": "code",
   "execution_count": 27,
   "metadata": {},
   "outputs": [
    {
     "data": {
      "image/png": "[encoded data removed]",
      "text/plain": [
       "<Figure size 432x288 with 1 Axes>"
      ]
     },
     "metadata": {
      "needs_background": "light"
     },
     "output_type": "display_data"
    }
   ],
   "source": [
    "u=uniform_dis()\n",
    "u=np.array(u)\n",
    "u=u.reshape(2,-1)\n",
    "# 将u1做反变换\n",
    "u1_inverse=np.sqrt(-2*np.log(1-u[0]))\n",
    "# 生成高斯分布\n",
    "res_x=u1_inverse*np.cos(2*np.pi*u[1])\n",
    "plt.hist(res_x,bins=1000)\n",
    "plt.show()"
   ]
  },
  {
   "cell_type": "code",
   "execution_count": 39,
   "metadata": {},
   "outputs": [
    {
     "name": "stdout",
     "output_type": "stream",
     "text": [
      "mean : 0.003740991380011349   var : 1.0093457248115925\n",
      "error_rate inf , 0.934572481159246\n"
     ]
    },
    {
     "name": "stderr",
     "output_type": "stream",
     "text": [
      "<ipython-input-37-ce54d5949217>:4: RuntimeWarning: divide by zero encountered in double_scalars\n",
      "  print(f\"error_rate {abs(act_mean-des_mean)/des_mean*100} , {abs(act_var-des_var)/des_var*100}\")\n"
     ]
    }
   ],
   "source": [
    "cal_mean_var_error(res_x.mean(),res_x.var(),0,1)"
   ]
  },
  {
   "cell_type": "markdown",
   "metadata": {},
   "source": [
    "## parteo分布"
   ]
  },
  {
   "cell_type": "code",
   "execution_count": 92,
   "metadata": {},
   "outputs": [
    {
     "data": {
      "text/plain": [
       "<matplotlib.legend.Legend at 0x276dee6f220>"
      ]
     },
     "execution_count": 92,
     "metadata": {},
     "output_type": "execute_result"
    },
    {
     "data": {
      "image/png": "[encoded data removed]",
      "text/plain": [
       "<Figure size 432x288 with 1 Axes>"
      ]
     },
     "metadata": {
      "needs_background": "light"
     },
     "output_type": "display_data"
    }
   ],
   "source": [
    "# 产生parteo分布a=1 b=1\n",
    "x=np.arange(1,10,0.01)\n",
    "y1=(1/x**2)\n",
    "# 产生parteo分布a=2 b=2\n",
    "y2=(8/x**3)\n",
    "plt.plot(x,y1,label=\"a=1,b=1\")\n",
    "plt.plot(x,y2,label=\"a=2,b=2\")\n",
    "plt.legend()"
   ]
  },
  {
   "cell_type": "code",
   "execution_count": 83,
   "metadata": {},
   "outputs": [
    {
     "data": {
      "text/plain": [
       "1.0"
      ]
     },
     "execution_count": 83,
     "metadata": {},
     "output_type": "execute_result"
    }
   ],
   "source": []
  },
  {
   "cell_type": "code",
   "execution_count": 84,
   "metadata": {},
   "outputs": [
    {
     "data": {
      "image/png": "[encoded data removed]",
      "text/plain": [
       "<Figure size 432x288 with 1 Axes>"
      ]
     },
     "metadata": {
      "needs_background": "light"
     },
     "output_type": "display_data"
    }
   ],
   "source": [
    "# 产生均匀分布\n",
    "unif2=uniform_dis()\n",
    "unif2=np.array(unif2)\n",
    "\n",
    "# 使用反变换法得到pareto分布\n",
    "pareto=1/(1-unif2)\n",
    "\n",
    "# 为了观察更加清晰 限制反函数生成值的范围\n",
    "temp=np.clip(pareto,0,30)\n",
    "plt.hist(temp,bins=1000)\n",
    "plt.show()"
   ]
  },
  {
   "cell_type": "code",
   "execution_count": 89,
   "metadata": {},
   "outputs": [
    {
     "data": {
      "text/plain": [
       "0.5004333333333333"
      ]
     },
     "execution_count": 89,
     "metadata": {},
     "output_type": "execute_result"
    }
   ],
   "source": [
    "filt=temp<=2\n",
    "temp[filt].shape[0]/60000"
   ]
  },
  {
   "cell_type": "code",
   "execution_count": 62,
   "metadata": {},
   "outputs": [
    {
     "data": {
      "image/png": "[encoded data removed]",
      "text/plain": [
       "<Figure size 432x288 with 1 Axes>"
      ]
     },
     "metadata": {
      "needs_background": "light"
     },
     "output_type": "display_data"
    }
   ],
   "source": [
    "# 产生均匀分布\n",
    "unif2=uniform_dis()\n",
    "unif2=np.array(unif2)\n",
    "\n",
    "# 使用反变换法得到pareto分布\n",
    "pareto=2/np.sqrt(1-unif2)\n",
    "# 为了观察更加清晰 限制反函数生成值的范围\n",
    "temp=np.clip(pareto,0,20)\n",
    "plt.hist(temp,bins=1000)\n",
    "plt.show()"
   ]
  },
  {
   "cell_type": "code",
   "execution_count": 90,
   "metadata": {},
   "outputs": [
    {
     "data": {
      "text/plain": [
       "0.7503833333333333"
      ]
     },
     "execution_count": 90,
     "metadata": {},
     "output_type": "execute_result"
    }
   ],
   "source": [
    "filt=temp<=4\n",
    "temp[filt].shape[0]/60000"
   ]
  },
  {
   "cell_type": "markdown",
   "metadata": {},
   "source": [
    "## 产生指数分布"
   ]
  },
  {
   "cell_type": "code",
   "execution_count": 72,
   "metadata": {},
   "outputs": [],
   "source": [
    "# 使用反变换法得到指数分布\n",
    "exp_dis=np.log(1-unif2)**2\n",
    "exp_dis.min(),exp_dis.max(),exp_dis.mean()\n",
    "plt.hist(exp_dis,bins=1000)\n",
    "plt.show()\n",
    "temp=np.clip(exp_dis,0,10)\n",
    "plt.hist(temp,bins=1000)\n",
    "plt.show()"
   ]
  },
  {
   "cell_type": "markdown",
   "metadata": {},
   "source": [
    "## 组合法生成混合高斯"
   ]
  },
  {
   "cell_type": "code",
   "execution_count": 127,
   "metadata": {},
   "outputs": [],
   "source": [
    "# 通过不同的种子生成三个独立的均匀分布\n",
    "u=uniform_dis(4)\n",
    "u=np.array(u)\n",
    "u=u.reshape(2,-1)\n",
    "# 将u1做反变换\n",
    "u1_inverse=np.sqrt(-2*np.log(1-u[0]))\n",
    "# 生成高斯分布\n",
    "g1=u1_inverse*np.cos(2*np.pi*u[1])\n",
    "\n",
    "\n",
    "u=uniform_dis(5)\n",
    "u=np.array(u)\n",
    "u=u.reshape(2,-1)\n",
    "# 将u1做反变换\n",
    "u1_inverse=np.sqrt(-2*np.log(1-u[0]))\n",
    "# 生成高斯分布\n",
    "g2=u1_inverse*np.cos(2*np.pi*u[1])\n",
    "\n",
    "u=uniform_dis(6)\n",
    "u=np.array(u)\n",
    "u=u.reshape(2,-1)\n",
    "# 将u1做反变换\n",
    "u1_inverse=np.sqrt(-2*np.log(1-u[0]))\n",
    "# 生成高斯分布\n",
    "g3=u1_inverse*np.cos(2*np.pi*u[1])\n"
   ]
  },
  {
   "cell_type": "code",
   "execution_count": 128,
   "metadata": {},
   "outputs": [
    {
     "data": {
      "image/png": "[encoded data removed]",
      "text/plain": [
       "<Figure size 432x288 with 1 Axes>"
      ]
     },
     "metadata": {
      "needs_background": "light"
     },
     "output_type": "display_data"
    }
   ],
   "source": [
    "# 产生N(-1,1/16) gaussian distribution p=1/2\n",
    "guassian1=0.5*4*(g1+1)/0.25\n",
    "# 产生N(0,1) gaussian distribution p=1/3\n",
    "guassian2=1/3*(g1)\n",
    "# 产生N(1,1/4) gaussian distribution p=1/6\n",
    "guassian3=1/6*2*(res_x-1)/0.5\n",
    "res=guassian1+guassian2+guassian3\n",
    "plt.hist(res,bins=1000)\n",
    "plt.show()"
   ]
  },
  {
   "cell_type": "code",
   "execution_count": 129,
   "metadata": {},
   "outputs": [
    {
     "name": "stdout",
     "output_type": "stream",
     "text": [
      "mean : 7.367002255753436   var : 81.757003709739\n",
      "error_rate 636.7002255753436 , 8075.700370973899\n"
     ]
    }
   ],
   "source": [
    "cal_mean_var_error(res.mean(),res.var(),1,1)"
   ]
  },
  {
   "cell_type": "markdown",
   "metadata": {},
   "source": [
    "## possion过程"
   ]
  },
  {
   "cell_type": "code",
   "execution_count": 140,
   "metadata": {},
   "outputs": [
    {
     "data": {
      "text/plain": [
       "[<matplotlib.lines.Line2D at 0x276dee9c880>]"
      ]
     },
     "execution_count": 140,
     "metadata": {},
     "output_type": "execute_result"
    },
    {
     "data": {
      "image/png": "[encoded data removed]",
      "text/plain": [
       "<Figure size 432x288 with 1 Axes>"
      ]
     },
     "metadata": {
      "needs_background": "light"
     },
     "output_type": "display_data"
    }
   ],
   "source": [
    "x=np.arange(0,9)\n",
    "poisson_param_2=[]\n",
    "for i in range(0,len(x)):\n",
    "    poisson_param_2.append(np.exp(-2)*np.exp2(i)/np.math.factorial(i))\n",
    "poisson_param_2=np.array(poisson_param_2)\n",
    "plt.plot(x,poisson_param_2)"
   ]
  },
  {
   "cell_type": "code",
   "execution_count": 132,
   "metadata": {},
   "outputs": [],
   "source": [
    "x=uniform_dis()\n",
    "exp_dist=-0.5*np.log(x)"
   ]
  },
  {
   "cell_type": "code",
   "execution_count": 133,
   "metadata": {},
   "outputs": [],
   "source": [
    "exp_dist=exp_dist.reshape(1000,-1)"
   ]
  },
  {
   "cell_type": "code",
   "execution_count": 134,
   "metadata": {},
   "outputs": [
    {
     "data": {
      "text/plain": [
       "array([0.46053032, 0.10585417, 0.72243156, 0.15962242, 0.24995585,\n",
       "       0.07483414, 0.16538563, 0.22652406, 3.79808051, 0.40659713,\n",
       "       0.06105596, 1.86854138, 0.45618054, 0.65421144, 1.87806274,\n",
       "       0.08185987, 0.10816478, 0.31653919, 0.13898385, 0.6040079 ,\n",
       "       0.13990745, 0.10608536, 0.02639352, 0.10065458, 0.45183699,\n",
       "       0.9249121 , 0.94955109, 1.42591412, 0.44126394, 0.21071041,\n",
       "       0.59067114, 0.34034961, 0.1371167 , 0.04223963, 0.3700618 ,\n",
       "       0.07391987, 0.79756708, 0.09549437, 0.01684893, 1.28608518,\n",
       "       0.30428863, 1.1515445 , 0.07932736, 0.67204771, 0.07909399,\n",
       "       0.02261761, 0.19970455, 0.15859219, 0.11268615, 0.20283088,\n",
       "       0.38444136, 0.28984254, 0.86922341, 0.29279255, 0.11070394,\n",
       "       0.02174089, 0.07417581, 0.12161337, 0.66793439, 1.41818761])"
      ]
     },
     "execution_count": 134,
     "metadata": {},
     "output_type": "execute_result"
    }
   ],
   "source": [
    "exp_dist[3]"
   ]
  },
  {
   "cell_type": "code",
   "execution_count": 136,
   "metadata": {},
   "outputs": [],
   "source": [
    "def cal_one_possion(lst):\n",
    "    # 返回在T时间内，独立事件发生的次数\n",
    "    T=1\n",
    "    res=0\n",
    "    times=0\n",
    "    for i in range(len(lst)):\n",
    "        res+=lst[i]\n",
    "        if res<T:\n",
    "            times+=1\n",
    "        else:\n",
    "            break\n",
    "    return times\n",
    "\n"
   ]
  },
  {
   "cell_type": "code",
   "execution_count": 137,
   "metadata": {},
   "outputs": [],
   "source": [
    "res_lst=[]\n",
    "for i in range(0,1000):\n",
    "    res_lst.append(cal_one_possion(exp_dist[i]))"
   ]
  },
  {
   "cell_type": "code",
   "execution_count": 138,
   "metadata": {},
   "outputs": [
    {
     "data": {
      "image/png": "[encoded data removed]",
      "text/plain": [
       "<Figure size 432x288 with 1 Axes>"
      ]
     },
     "metadata": {
      "needs_background": "light"
     },
     "output_type": "display_data"
    }
   ],
   "source": [
    "nums=plt.hist(res_lst,bins=np.arange(0,10))[0]\n",
    "plt.plot(np.arange(0,9),nums)\n",
    "plt.show()"
   ]
  },
  {
   "cell_type": "code",
   "execution_count": 143,
   "metadata": {},
   "outputs": [],
   "source": [
    "nums=nums/1000"
   ]
  },
  {
   "cell_type": "code",
   "execution_count": 144,
   "metadata": {},
   "outputs": [
    {
     "data": {
      "text/plain": [
       "<matplotlib.legend.Legend at 0x276df15fe20>"
      ]
     },
     "execution_count": 144,
     "metadata": {},
     "output_type": "execute_result"
    },
    {
     "data": {
      "image/png": "[encoded data removed]",
      "text/plain": [
       "<Figure size 432x288 with 1 Axes>"
      ]
     },
     "metadata": {
      "needs_background": "light"
     },
     "output_type": "display_data"
    }
   ],
   "source": [
    "x=np.arange(0,9)\n",
    "poisson_param_2=[]\n",
    "for i in range(0,len(x)):\n",
    "    poisson_param_2.append(np.exp(-2)*np.exp2(i)/np.math.factorial(i))\n",
    "poisson_param_2=np.array(poisson_param_2)\n",
    "plt.plot(x,poisson_param_2,label=\"real\")\n",
    "plt.plot(x,nums,label=\"output\")\n",
    "plt.legend()"
   ]
  },
  {
   "cell_type": "code",
   "execution_count": 156,
   "metadata": {},
   "outputs": [
    {
     "name": "stdout",
     "output_type": "stream",
     "text": [
      "[0, 1312, 2696, 2776, 1791, 887, 368, 119, 41, 9]\n"
     ]
    }
   ],
   "source": [
    "res=0\n",
    "res_lst=[]\n",
    "# 设置一段时间内事件最大出现次数为9\n",
    "times_lst=[0]*10\n",
    "\n",
    "#times_lst[i] 表示一段时间内某个事件出现次数次数为i的个数\n",
    "\n",
    "# 进行1000次测量在20单位时间内，一个事件发生的次数 \n",
    "for i in range(0,10000):\n",
    "    res=0\n",
    "    times=0\n",
    "    while res<1:\n",
    "        res+=exp_dist[np.random.randint(60000)]\n",
    "        times+=1\n",
    "    if times<10:\n",
    "        times_lst[times]+=1\n",
    "print(times_lst)"
   ]
  }
 ],
 "metadata": {
  "interpreter": {
   "hash": "b3ba2566441a7c06988d0923437866b63cedc61552a5af99d1f4fb67d367b25f"
  },
  "kernelspec": {
   "display_name": "Python 3.8.5 64-bit (conda)",
   "name": "python3"
  },
  "language_info": {
   "codemirror_mode": {
    "name": "ipython",
    "version": 3
   },
   "file_extension": ".py",
   "mimetype": "text/x-python",
   "name": "python",
   "nbconvert_exporter": "python",
   "pygments_lexer": "ipython3",
   "version": "3.8.5"
  },
  "orig_nbformat": 4
 },
 "nbformat": 4,
 "nbformat_minor": 2
}
