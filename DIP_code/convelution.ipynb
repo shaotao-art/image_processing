{
 "cells": [
  {
   "cell_type": "code",
   "execution_count": 3,
   "metadata": {},
   "outputs": [],
   "source": [
    "%matplotlib inline\n",
    "import matplotlib.pyplot as plt\n",
    "import matplotlib.image as mpimg\n",
    "import numpy as np"
   ]
  },
  {
   "cell_type": "code",
   "execution_count": 114,
   "metadata": {},
   "outputs": [],
   "source": [
    "def zero_pad(image, pad_height, pad_width):\n",
    "    \"\"\" Zero-pad a 3d image.\n",
    "\n",
    "    Args:\n",
    "        image: numpy array of shape (H, W, _). _为channel数，可能是已经卷积过的图像，可能不为3，比如和四个filter卷积后 _ = 4 \n",
    "        pad_width: width of the zero padding (left and right padding).\n",
    "        pad_height: height of the zero padding (bottom and top padding).\n",
    "    Returns:\n",
    "        out: numpy array of shape (H+2*pad_height, W+2*pad_width).\n",
    "    \"\"\"\n",
    "    if img.ndim==3:\n",
    "        H, W ,_= image.shape\n",
    "        # 前一个为上下  即行 高 后一个为左右 即列 宽\n",
    "        out=np.pad(image,pad_width=[(pad_width,pad_width),(pad_height,pad_height),(0,0)],mode='constant')\n",
    "    if img.ndim==2:\n",
    "        H, W = image.shape\n",
    "        out=np.pad(image,pad_width=[(pad_width,pad_width),(pad_height,pad_height)],mode='constant')\n",
    "    \n",
    "    ### YOUR CODE HERE\n",
    "\n",
    "    ### END YOUR CODE\n",
    "    return out"
   ]
  },
  {
   "cell_type": "code",
   "execution_count": 115,
   "metadata": {},
   "outputs": [],
   "source": [
    "def convlution(image, kernel):\n",
    "    \"\"\" An efficient implementation of convolution filter.\n",
    "    This function uses element-wise multiplication and np.sum()\n",
    "    to efficiently compute weighted sum of neighborhood at each\n",
    "    pixel.\n",
    "    Hints:\n",
    "        - Use the zero_pad function you implemented above\n",
    "        - There should be two nested for-loops\n",
    "        - You may find np.flip() and np.sum() useful\n",
    "    Args:\n",
    "        image: numpy array of shape (Hi, Wi).\n",
    "        kernel: numpy array of shape (Hk, Wk). Dimensions will be odd.\n",
    "    Returns:\n",
    "        out: numpy array of shape (Hi, Wi).\n",
    "    \"\"\"\n",
    "    if image.ndim==3:\n",
    "        Hi, Wi,_ = image.shape\n",
    "        Hk, Wk,_= kernel.shape\n",
    "        # 卷积出的是一张一维图像\n",
    "        out = np.zeros((Hi, Wi))\n",
    "\n",
    "        ### YOUR CODE HERE\n",
    "        # pad image\n",
    "        image = zero_pad(image, Hk//2, Wk//2)\n",
    "        for m in range(Hi):\n",
    "            for n in range(Wi):\n",
    "                out[m, n] =  np.sum(image[m: m+Hk, n: n+Wk,:] * kernel)\n",
    "        ### END YOUR CODE\n",
    "    if image.ndim==2:\n",
    "        Hi, Wi = image.shape\n",
    "        Hk, Wk= kernel.shape\n",
    "        # 卷积出的是一张一维图像\n",
    "        out = np.zeros((Hi, Wi))\n",
    "\n",
    "        ### YOUR CODE HERE\n",
    "        # pad image\n",
    "        image = zero_pad(image, Hk//2, Wk//2)\n",
    "        for m in range(Hi):\n",
    "            for n in range(Wi):\n",
    "                out[m, n] =  np.sum(image[m: m+Hk, n: n+Wk] * kernel)\n",
    "        ### END YOUR CODE\n",
    "\n",
    "\n",
    "    return out"
   ]
  }
 ],
 "metadata": {
  "interpreter": {
   "hash": "5a4b10ea6e7017b946d64dd4626e0554263b03ba97c0491702f11b013cf63de0"
  },
  "kernelspec": {
   "display_name": "Python 3.8.8 64-bit ('base': conda)",
   "name": "python3"
  },
  "language_info": {
   "codemirror_mode": {
    "name": "ipython",
    "version": 3
   },
   "file_extension": ".py",
   "mimetype": "text/x-python",
   "name": "python",
   "nbconvert_exporter": "python",
   "pygments_lexer": "ipython3",
   "version": "3.8.8"
  },
  "orig_nbformat": 4
 },
 "nbformat": 4,
 "nbformat_minor": 2
}
